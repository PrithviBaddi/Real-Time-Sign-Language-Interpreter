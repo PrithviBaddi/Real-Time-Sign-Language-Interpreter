{
 "cells": [
  {
   "cell_type": "code",
   "execution_count": 6,
   "id": "fa4bee09-b443-4fd9-9405-5c69f46c0d1d",
   "metadata": {},
   "outputs": [],
   "source": [
    "import cv2\n",
    "import os\n",
    "import time\n",
    "import uuid"
   ]
  },
  {
   "cell_type": "code",
   "execution_count": 7,
   "id": "7e49e471-675b-4bc0-976c-ab089d3ec5ae",
   "metadata": {},
   "outputs": [],
   "source": [
    "IMAGES_PATH = 'Tensorflow/workspace/images/collectedimages'"
   ]
  },
  {
   "cell_type": "code",
   "execution_count": 8,
   "id": "e2ce76ee-0882-4ce5-96c4-8a5f06fd424f",
   "metadata": {},
   "outputs": [],
   "source": [
    "labels = ['Hello', 'Thanks', 'Please', 'Sorry', 'Yes', 'No', 'Help']\n",
    "number_of_images = 15"
   ]
  },
  {
   "cell_type": "code",
   "execution_count": 10,
   "id": "7217fc4b-47c6-4537-9ed2-756f1ff8a118",
   "metadata": {},
   "outputs": [
    {
     "name": "stdout",
     "output_type": "stream",
     "text": [
      "Collecting images for Hello\n",
      "Collecting images for Thanks\n",
      "Collecting images for Please\n",
      "Collecting images for Sorry\n",
      "Collecting images for Yes\n",
      "Collecting images for No\n",
      "Collecting images for Help\n"
     ]
    }
   ],
   "source": [
    "for label in labels:\n",
    "    # Create directory using Python - more reliable\n",
    "    label_path = os.path.join(IMAGES_PATH, label)\n",
    "    os.makedirs(label_path, exist_ok=True)  # exist_ok=True prevents error if dir exists\n",
    "    \n",
    "    cap = cv2.VideoCapture(2)\n",
    "    print('Collecting images for {}'.format(label))\n",
    "    time.sleep(5)\n",
    "    for imgnum in range(number_of_images):\n",
    "        ret, frame = cap.read()\n",
    "        imgname = os.path.join(IMAGES_PATH, label, label+'.'+'{}.jpg'.format(str(uuid.uuid1())))\n",
    "        cv2.imwrite(imgname, frame)\n",
    "        cv2.imshow('frame', frame)\n",
    "        time.sleep(2)\n",
    "        \n",
    "        if cv2.waitKey(1) & 0xFF == ord('q'):\n",
    "            break\n",
    "    cap.release()"
   ]
  },
  {
   "cell_type": "code",
   "execution_count": null,
   "id": "d171a30b-78df-4ccf-a770-80f585f07099",
   "metadata": {},
   "outputs": [],
   "source": []
  }
 ],
 "metadata": {
  "kernelspec": {
   "display_name": "Python 3 (ipykernel)",
   "language": "python",
   "name": "python3"
  },
  "language_info": {
   "codemirror_mode": {
    "name": "ipython",
    "version": 3
   },
   "file_extension": ".py",
   "mimetype": "text/x-python",
   "name": "python",
   "nbconvert_exporter": "python",
   "pygments_lexer": "ipython3",
   "version": "3.9.23"
  }
 },
 "nbformat": 4,
 "nbformat_minor": 5
}
